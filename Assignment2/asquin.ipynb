{
 "cells": [
  {
   "cell_type": "markdown",
   "metadata": {},
   "source": [
    "# Pedestrians recognition without using Deep Learning"
   ]
  },
  {
   "cell_type": "markdown",
   "metadata": {},
   "source": [
    "## 1.Dependencies"
   ]
  },
  {
   "cell_type": "code",
   "execution_count": 7,
   "metadata": {},
   "outputs": [],
   "source": [
    "%matplotlib inline\n",
    "from matplotlib import pyplot as plt\n",
    "import cv2\n",
    "import os\n",
    "import numpy as np\n",
    "import glob\n",
    "\n",
    "\n",
    "data_root = 'img1/'\n",
    "gt_path = './gt/gt.txt'\n",
    "\n",
    "_W = 1280\n",
    "_H = 960\n",
    "_N = 684 # number of frames\n"
   ]
  },
  {
   "cell_type": "code",
   "execution_count": 30,
   "metadata": {},
   "outputs": [],
   "source": [
    "def hog(im_path):\n",
    "    hog = cv2.HOGDescriptor()\n",
    "    im = cv2.imread(im_path)\n",
    "    h = hog.compute(im)\n",
    "    print(h)"
   ]
  },
  {
   "cell_type": "code",
   "execution_count": 31,
   "metadata": {},
   "outputs": [
    {
     "name": "stdout",
     "output_type": "stream",
     "text": [
      "[[0.18076737]\n",
      " [0.04871697]\n",
      " [0.18816349]\n",
      " ...\n",
      " [0.2543134 ]\n",
      " [0.07930414]\n",
      " [0.07784366]]\n"
     ]
    }
   ],
   "source": [
    "class Test:\n",
    "    def __init__(self):\n",
    "        self.dataset_path = data_root\n",
    "        self.les_im_path = self.get_dataset_im_path(self.dataset_path)\n",
    "    \n",
    "    def get_dataset_im_path(self, path):\n",
    "        \"\"\"\n",
    "        Get images path using glob\n",
    "        :param path: string, dataset folder\n",
    "        :return les_im_path: list of string, lsit sorted of every .jpg file in the dataset\n",
    "        \"\"\"\n",
    "        les_im_path = glob.glob(path + \"*.jpg\")\n",
    "        les_im_path.sort()\n",
    "        return les_im_path\n",
    "        \n",
    "    def test_hog(self):\n",
    "        test_im = self.les_im_path[0]\n",
    "        hog(test_im)\n",
    "\n",
    "tester = Test()\n",
    "tester.test_hog()"
   ]
  },
  {
   "cell_type": "markdown",
   "metadata": {},
   "source": [
    "## Interface function"
   ]
  },
  {
   "cell_type": "code",
   "execution_count": 2,
   "metadata": {},
   "outputs": [],
   "source": [
    "def pedestrians(data_root, _W, _H, _N):\n",
    "    ''' Return a list of bounding boxes in the format frame, bb_id, x,y,dx,dy '''\n",
    "    return [[1,1,617,128,20,50]]"
   ]
  },
  {
   "cell_type": "markdown",
   "metadata": {},
   "source": [
    "## N.Evaluation"
   ]
  },
  {
   "cell_type": "code",
   "execution_count": null,
   "metadata": {},
   "outputs": [],
   "source": [
    "def format_id(frame):\n",
    "    assert _N >= frame\n",
    "    return '{:03d}'.format(frame)\n",
    "\n",
    "\n",
    "def read_frame(root, frame):\n",
    "    \"\"\"Read frames and create integer frame_id-s\"\"\"\n",
    "    assert _N >= frame\n",
    "    return cv2.imread(os.path.join(root,format_id(frame)+'.jpg'), cv2.IMREAD_UNCHANGED)\n",
    "    \n",
    "\n",
    "def read_gt(filename):\n",
    "    \"\"\"Read gt and create list of bb-s\"\"\"\n",
    "    assert os.path.exists(filename)\n",
    "    with open(filename, 'r') as file:\n",
    "        lines = file.readlines()\n",
    "    # truncate data (last columns are not needed)\n",
    "    return [list(map(lambda x: int(x), line.split(',')[:6])) for line in lines]\n",
    "\n",
    "\n",
    "def annotations_for_frame(solution, frame):\n",
    "    assert _N >= frame\n",
    "    return [bb for bb in solution if int(bb[0])==int(frame)]\n",
    "\n",
    "\n",
    "def evaluate_solution(gt, solution, N):\n",
    "    \"\"\"Caclulate evaluation metric\"\"\"\n",
    "    score = []\n",
    "    #for frame in [300]:\n",
    "    for frame in range(1, N):\n",
    "        bbs_sol = annotations_for_frame(solution, frame)\n",
    "        bbs_gt = annotations_for_frame(gt, frame)\n",
    "        black_sol = np.zeros((_H, _W))\n",
    "        black_gt = np.zeros((_H, _W))\n",
    "        for bb in bbs_sol:\n",
    "            x, y = bb[2:4]\n",
    "            dx, dy = bb[4:6]\n",
    "            cv2.rectangle(black_sol, (x, y), (x+dx, y+dy), (255), -1)\n",
    "        for bb in bbs_gt:\n",
    "            x, y = bb[2:4]\n",
    "            dx, dy = bb[4:6]\n",
    "            cv2.rectangle(black_gt, (x, y), (x+dx, y+dy), (255), -1)\n",
    "        # intersection over union\n",
    "        intersection = black_sol * black_gt\n",
    "        intersection[intersection > 0.5] = 1\n",
    "        union = black_sol + black_gt\n",
    "        union[union > 0.5] = 1\n",
    "        if not union.any():\n",
    "            continue\n",
    "        score.append(intersection.sum()/union.sum())\n",
    "        \n",
    "        \n",
    "    return np.asarray(score).mean()\n",
    "    \n",
    "\n",
    "def show_annotation(solution, frame):\n",
    "    assert _N >= frame\n",
    "    im = read_frame(data_root, frame)\n",
    "    bbs = annotations_for_frame(solution, frame)\n",
    "    for bb in bbs:\n",
    "        x, y = bb[2:4]\n",
    "        dx, dy = bb[4:6]\n",
    "        cv2.rectangle(im, (x, y), (x+dx, y+dy), (0,255,0), 10)\n",
    "    plt.imshow(im)\n",
    "    plt.title('Annotations for frame {}.'.format(frame))\n",
    "    plt.show()\n",
    "    return\n",
    "\n",
    "gt = read_gt(gt_path)\n",
    "\n",
    "show_annotation(gt, 300)\n",
    "\n",
    "print('A perfect score... {}'.format(evaluate_solution(gt, gt, _N)))\n",
    "\n",
    "# your solution will be tested simply by changing the dataset\n",
    "# and changing the module, i.e., the following has to work \n",
    "# with simply using your module \n",
    "sol = pedestrians(data_root, _W, _H, _N)\n",
    "print('A great score! {}'.format(evaluate_solution(sol, gt, _N)))\n",
    "\n"
   ]
  }
 ],
 "metadata": {
  "kernelspec": {
   "display_name": "Python 3",
   "language": "python",
   "name": "python3"
  },
  "language_info": {
   "codemirror_mode": {
    "name": "ipython",
    "version": 3
   },
   "file_extension": ".py",
   "mimetype": "text/x-python",
   "name": "python",
   "nbconvert_exporter": "python",
   "pygments_lexer": "ipython3",
   "version": "3.7.1"
  }
 },
 "nbformat": 4,
 "nbformat_minor": 2
}
